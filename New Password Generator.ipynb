{
 "cells": [
  {
   "cell_type": "markdown",
   "id": "09450f5b",
   "metadata": {},
   "source": [
    "## Password Generator"
   ]
  },
  {
   "cell_type": "code",
   "execution_count": 5,
   "id": "3a8fe613",
   "metadata": {},
   "outputs": [
    {
     "name": "stdout",
     "output_type": "stream",
     "text": [
      "Welcome to the PyPassword Generator!\n",
      "How many letters would you like in your password?\n",
      "5\n",
      "How many symbols would you like?\n",
      "1\n",
      "How many numbers would you like?\n",
      "2\n",
      "\n",
      "\n",
      "Here is your Password Suggestion : 2TW3AC*J\n"
     ]
    }
   ],
   "source": [
    "import random\n",
    "\n",
    "letters = ['a', 'b', 'c', 'd', 'e', 'f', 'g', 'h', 'i', 'j', 'k', 'l', 'm', 'n', 'o', 'p', 'q', 'r', 's', 't', 'u', 'v', 'w', 'x', 'y', 'z', 'A', 'B', 'C', 'D', 'E', 'F', 'G', 'H', 'I', 'J', 'K', 'L', 'M', 'N', 'O', 'P', 'Q', 'R', 'S', 'T', 'U', 'V', 'W', 'X', 'Y', 'Z']\n",
    "numbers = ['0', '1', '2', '3', '4', '5', '6', '7', '8', '9']\n",
    "symbols = ['!', '#', '$', '%', '&', '(', ')', '*', '+']\n",
    "\n",
    "print(\"Welcome to the PyPassword Generator!\")\n",
    "\n",
    "nr_letters= int(input(\"How many letters would you like in your password?\\n\")) \n",
    "nr_symbols = int(input(f\"How many symbols would you like?\\n\"))\n",
    "nr_numbers = int(input(f\"How many numbers would you like?\\n\"))\n",
    "\n",
    "pw = []\n",
    "\n",
    "for letter in range(nr_letters):\n",
    "    pw.append(random.choice(letters))\n",
    "    \n",
    "for symbol in range(nr_symbols):\n",
    "    pw.append(random.choice(symbols))\n",
    "    \n",
    "for numb in range(nr_numbers):\n",
    "    pw.append(random.choice(numbers))\n",
    "    \n",
    "# We use the Shuffle fuction to shuffle the positions of the elements in list.\n",
    "# Saving this into a new variable will do nothing/return nothing\n",
    "random.shuffle(pw)\n",
    "\n",
    "# After shuffling we join the list elements to form a string\n",
    "pw = ''.join(pw)\n",
    "\n",
    "print(f\"\\n\\nHere is your Password Suggestion : {pw}\")"
   ]
  },
  {
   "cell_type": "code",
   "execution_count": null,
   "id": "67f5004a",
   "metadata": {},
   "outputs": [],
   "source": []
  }
 ],
 "metadata": {
  "kernelspec": {
   "display_name": "Python 3 (ipykernel)",
   "language": "python",
   "name": "python3"
  },
  "language_info": {
   "codemirror_mode": {
    "name": "ipython",
    "version": 3
   },
   "file_extension": ".py",
   "mimetype": "text/x-python",
   "name": "python",
   "nbconvert_exporter": "python",
   "pygments_lexer": "ipython3",
   "version": "3.11.5"
  }
 },
 "nbformat": 4,
 "nbformat_minor": 5
}
